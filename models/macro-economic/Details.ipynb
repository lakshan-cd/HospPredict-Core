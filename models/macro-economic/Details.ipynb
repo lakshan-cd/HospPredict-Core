{
 "cells": [
  {
   "cell_type": "markdown",
   "id": "e526f48f",
   "metadata": {},
   "source": [
    "# Abstract\n",
    "\n",
    "This research investigates the impact of macroeconomic indicators on the stock prices of Sri Lanka’s hospitality industry using a hybrid forecasting and interpretability approach. Leveraging ten years of daily data from key hospitality companies, we introduce a dual-stage architecture that integrates deep learning with statistical analysis. First, a dual-input Long Short-Term Memory (LSTM) model is employed to forecast stock prices based on historical price movements and macroeconomic trends including tourist arrivals, money supply, exchange rates, and inflation.\n",
    "\n",
    "To enhance interpretability, SHAP (SHapley Additive exPlanations) is applied to assess the contribution of each macroeconomic feature to the LSTM predictions. Additionally, a rolling-window Granger causality analysis provides statistical validation of directional influence over time. This dual-pronged interpretability allows both global and time-sensitive insights into how external economic forces affect firm-level market performance. Results show that certain macroeconomic factors exhibit significant predictive power that fluctuates across different periods, offering deeper understanding for policymakers and investors.\n",
    "\n",
    "---\n",
    "\n",
    "**Keywords**: Macroeconomics, Stock Forecasting, Hospitality Industry, LSTM, SHAP, Granger Causality, Time Series, Sri Lanka\n"
   ]
  },
  {
   "cell_type": "markdown",
   "id": "aa34f7cf",
   "metadata": {},
   "source": [
    "---"
   ]
  },
  {
   "cell_type": "markdown",
   "id": "68d01fb9",
   "metadata": {},
   "source": [
    "# Introduction\n",
    "\n",
    "The hospitality sector plays a critical role in the economic development of Sri Lanka, with its performance closely tied to both domestic and international macroeconomic dynamics. As a country heavily reliant on tourism, Sri Lanka's hospitality firms are particularly sensitive to external indicators such as tourist arrivals, exchange rate volatility, monetary supply changes, and inflationary trends. Understanding the influence of these macroeconomic indicators on stock market performance is crucial for investors, policymakers, and industry stakeholders aiming to anticipate market behavior and manage financial risks effectively.\n",
    "\n",
    "While prior research has explored the relationship between macroeconomic variables and stock indices, there remains a significant gap in applying advanced machine learning techniques—particularly hybrid deep learning models—within the context of sector-specific forecasting in emerging markets. Traditional time series models, such as ARIMA and VAR, offer limited ability to capture nonlinear patterns and complex interactions between features. On the other hand, black-box deep learning models often lack transparency, making them difficult to interpret in financial contexts where explainability is essential.\n",
    "\n",
    "This study addresses these challenges by developing a novel dual-stage modeling framework that combines the predictive power of deep learning with statistical interpretability techniques. Specifically, we propose a dual-input LSTM model that forecasts hospitality sector stock prices using both historical price data and macroeconomic indicators. To provide actionable insights, we incorporate SHAP (SHapley Additive exPlanations) for feature attribution and apply Granger causality analysis in rolling time windows to statistically validate economic influence over time.\n",
    "\n",
    "By bridging forecasting accuracy with economic interpretability, this research contributes a unique approach to time series modeling that is both data-driven and explainable, tailored specifically for the Sri Lankan hospitality sector.\n"
   ]
  },
  {
   "cell_type": "markdown",
   "id": "a10e9c44",
   "metadata": {},
   "source": [
    "---"
   ]
  },
  {
   "cell_type": "markdown",
   "id": "866440a9",
   "metadata": {},
   "source": [
    "## Research Gap\n",
    "\n",
    "While there exists a substantial body of literature exploring the relationship between macroeconomic indicators and stock market indices, most prior studies are limited in several key ways. \n",
    "-First, the majority focus on broad market indices (e.g., ASPI, S&P 500) rather than sector-specific stocks, which may respond differently to economic fluctuations. Particularly in the context of Sri Lanka, limited attention has been paid to how macroeconomic variables influence the **hospitality sector**, a domain highly sensitive to tourism and foreign capital flows.\n",
    "\n",
    "-Second, conventional time series models such as ARIMA, VAR, and linear regression have been widely used in forecasting but lack the capacity to capture complex nonlinear relationships and temporal dependencies in multivariate data. Although machine learning models are increasingly used for financial forecasting, many remain opaque and difficult to interpret — limiting their acceptance among economists, analysts, and policymakers.\n",
    "\n",
    "-Third, existing studies often apply forecasting and interpretability techniques in isolation. Few combine **deep learning** with **post-hoc interpretability** and **statistical causality tests** within a unified framework. Furthermore, temporal shifts in feature importance are seldom studied, meaning the dynamic nature of macroeconomic influence remains underexplored.\n",
    "\n",
    "This study addresses these gaps by:\n",
    "- Focusing on firm-level stock forecasting in the hospitality sector of an emerging economy,\n",
    "- Introducing a hybrid deep learning model (dual-input LSTM) enriched with both SHAP-based interpretability and rolling Granger causality analysis,\n",
    "- Emphasizing the **time-varying** influence of macroeconomic indicators, which provides both predictive and explanatory power.\n"
   ]
  },
  {
   "cell_type": "markdown",
   "id": "47e36159",
   "metadata": {},
   "source": [
    "---"
   ]
  },
  {
   "cell_type": "markdown",
   "id": "c8fa012b",
   "metadata": {},
   "source": [
    "# Methodology\n",
    "\n",
    "This study implements a dual-stage modeling framework combining deep learning and statistical analysis to investigate the impact of macroeconomic indicators on stock prices in the hospitality sector. The approach consists of three primary stages: data preprocessing, hybrid model development, and post-model interpretability.\n",
    "\n",
    "## 1. Data Collection and Preprocessing\n",
    "\n",
    "Daily stock trading data from selected hospitality companies listed on the Colombo Stock Exchange (CSE) were compiled over a 10-year period. Macroeconomic indicators—Tourist Arrivals, Money Supply (M2), Exchange Rate (LKR/USD), and Inflation—were aggregated and aligned to match the stock data frequency.\n",
    "\n",
    "Each company’s data was structured into overlapping time series windows (lookback sequences) to capture short-term temporal patterns. Two input sequences were generated per sample:\n",
    "- **Stock Input**: historical closing prices\n",
    "- **Macro Input**: corresponding macroeconomic values\n",
    "\n",
    "All features were scaled using Min-Max normalization to enhance model convergence.\n",
    "\n",
    "## 2. Dual-Input LSTM Model\n",
    "\n",
    "We developed a dual-input LSTM model architecture with two parallel branches:\n",
    "- One LSTM branch for stock sequences\n",
    "- One LSTM branch for macroeconomic sequences\n",
    "\n",
    "The outputs of both branches were concatenated and passed through fully connected dense layers to predict the next day’s stock price. The model was trained using Mean Squared Error (MSE) as the loss function, with early stopping based on validation performance. Training and testing splits followed an 80/20 chronological ratio.\n",
    "\n",
    "## 3. SHAP-Based Model Interpretability\n",
    "\n",
    "To assess the contribution of each macroeconomic indicator to the model’s predictions, SHAP (SHapley Additive exPlanations) values were computed. Using the DeepExplainer from the SHAP library, we analyzed the importance of features across different samples, enabling us to quantify the directional influence of each macroeconomic variable on predicted prices.\n",
    "\n",
    "## 4. Granger Causality Analysis\n",
    "\n",
    "To complement SHAP and provide statistical validation, Granger causality tests were conducted in rolling 6-month windows across the dataset. This analysis tested whether past values of each macroeconomic feature could significantly improve the prediction of future stock price movements. The p-values from each test were recorded to highlight periods where macro indicators exhibited strong temporal influence.\n",
    "\n",
    "\n",
    "The combination of LSTM forecasting with SHAP and Granger analysis allows this methodology to not only achieve high predictive performance but also generate insights into the dynamic economic forces affecting firm-level financial outcomes.\n"
   ]
  },
  {
   "cell_type": "markdown",
   "id": "e394494e",
   "metadata": {},
   "source": [
    "---"
   ]
  },
  {
   "cell_type": "markdown",
   "id": "ac625167",
   "metadata": {},
   "source": [
    "# Results\n",
    "\n",
    "The proposed dual-input LSTM model was trained and evaluated on multiple companies in the Sri Lankan hospitality sector. This section presents the forecasting accuracy metrics, SHAP feature attribution analysis, and results from the rolling Granger causality test.\n",
    "\n",
    "## 1. Forecasting Performance\n",
    "\n",
    "The LSTM model demonstrated robust performance across all selected companies. Evaluation metrics on the test set included Root Mean Squared Error (RMSE) and Mean Absolute Error (MAE). Table 1 summarizes the results:\n",
    "\n",
    "| Company                               | RMSE   | MAE    |\n",
    "|---------------------------------------|--------|--------|\n",
    "| AITKEN SPENCE HOTEL HOLDINGS PLC      | 1.9005538284017762 | 1.3586817521077084 |\n",
    "| JOHN KEELLS HOTELS PLC                | 0.5763379073656504 | 0.3785788109537079 |\n",
    "| TANGERINE_BEACH_HOTELS_PLC            | 3.4617643803578235 | 2.434127897457777  |\n",
    "| ...                                   | ...                | ...                |\n",
    "\n",
    "*Table 1: Forecasting accuracy on test sets (scaled values)*\n",
    "\n",
    "## 2. SHAP-Based Feature Importance\n",
    "\n",
    "To interpret the learned relationships between macroeconomic factors and stock prices, SHAP values were computed using the trained model. Figure 1 illustrates the SHAP summary plot for one company, highlighting feature contributions to prediction variability.\n",
    "\n",
    "- **Tourist Arrivals** and **Exchange Rate** were consistently the most influential features across models.\n",
    "- Feature importance varied subtly between companies, reflecting company-specific sensitivities to macro conditions.\n",
    "\n",
    "![SHAP Summary Plot](../outputs/plots/shap_plots/shap_summary_macro_ASIAN_HOTELS_AND_PROPERTIES_PLC.png)\n",
    "![SHAP Summary Plot](../outputs/plots/shap_bar_plots/shap_bar_grid_macro_ASIAN_HOTELS_AND_PROPERTIES_PLC.png)\n",
    "\n",
    "*Figure 1: SHAP summary plots of ASIAN HOTELS AND PROPERTIES PLC*\n",
    "\n",
    "## 3. Granger Causality Analysis (Rolling Windows)\n",
    "\n",
    "Granger causality tests were performed in 6-month rolling windows to examine the temporal significance of macroeconomic features. Results were visualized as a heatmap showing the minimum p-values for each feature across time windows.\n",
    "\n",
    "![Granger Heatmap](../outputs/plots/rolling_ganager_heatmap/rolling_granger_heatmap_AITKEN_SPENCE_HOTEL_HOLDINGS_PLC_6month.png)\n",
    "\n",
    "*Figure 2: Granger causality heatmap – AITKEN SPENCE HOTEL HOLDINGS PLC (6-month windows)*\n",
    "\n",
    "Key findings:\n",
    "- **Tourist Arrivals** and **Money Supply** frequently showed statistically significant influence (p < 0.05) across various time windows.\n",
    "- Temporal variation in feature significance suggests shifting macroeconomic dependencies throughout economic cycles and external shocks (e.g., political instability, pandemic).\n",
    "\n",
    "\n",
    "The alignment of SHAP and Granger outputs strengthens the validity of findings and offers a multi-perspective understanding of the stock price dynamics.\n"
   ]
  },
  {
   "cell_type": "markdown",
   "id": "3ba73d4d",
   "metadata": {},
   "source": [
    "---"
   ]
  },
  {
   "cell_type": "markdown",
   "id": "87360084",
   "metadata": {},
   "source": [
    "# Conclusion and Future Work\n",
    "\n",
    "This study explored the impact of macroeconomic indicators on the stock prices of Sri Lanka’s hospitality sector using a novel dual-stage forecasting and interpretability framework. By combining a dual-input Long Short-Term Memory (LSTM) model with SHAP-based feature attribution and rolling Granger causality analysis, we were able to deliver both high-accuracy forecasts and interpretable insights.\n",
    "\n",
    "Our results demonstrate that macroeconomic indicators—particularly **Tourist Arrivals** and **Exchange Rate**—play a significant and time-varying role in influencing hospitality stock prices. The LSTM model effectively captured nonlinear dependencies, while SHAP and Granger methods offered complementary explanations: SHAP provided a global view of feature importance across the dataset, whereas Granger analysis revealed shifting causality patterns across different time windows.\n",
    "\n",
    "This dual-pronged approach offers a meaningful advancement over traditional models, as it bridges the gap between black-box predictive performance and the economic interpretability necessary for real-world decision-making. It also underscores the importance of dynamic macroeconomic modeling in volatile or developing economies like Sri Lanka.\n",
    "\n",
    "## Future Work\n",
    "\n",
    "To extend this research, several directions are recommended:\n",
    "- **Multivariate forecasting**: Expand the target output to predict multiple companies simultaneously or include sector-wide indices.\n",
    "- **External shocks modeling**: Integrate policy events, pandemics, or geopolitical variables into the forecasting pipeline.\n",
    "- **Transfer learning**: Explore the portability of models trained on one firm to others with similar macro exposure.\n",
    "- **Alternative interpretability**: Employ counterfactual explanation methods or attention-based networks for deeper insight.\n",
    "\n",
    "Overall, this research demonstrates the feasibility and value of combining deep learning with statistical reasoning to uncover macro-financial relationships in sector-specific contexts.\n"
   ]
  }
 ],
 "metadata": {
  "language_info": {
   "name": "python"
  }
 },
 "nbformat": 4,
 "nbformat_minor": 5
}
